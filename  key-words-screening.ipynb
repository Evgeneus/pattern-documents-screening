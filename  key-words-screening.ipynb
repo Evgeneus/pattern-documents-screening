{
 "cells": [
  {
   "cell_type": "markdown",
   "metadata": {},
   "source": [
    "# Key-words screening"
   ]
  },
  {
   "cell_type": "code",
   "execution_count": 2,
   "metadata": {},
   "outputs": [],
   "source": [
    "import nltk\n",
    "from nltk.stem.porter import PorterStemmer\n",
    "import csv\n",
    "import string\n",
    "from gensim.models import Phrases\n",
    "from gensim.models import Word2Vec\n",
    "from nltk.corpus import stopwords\n",
    "import pandas as pd\n",
    "import numpy as np\n",
    "\n",
    "from collections import Counter"
   ]
  },
  {
   "cell_type": "code",
   "execution_count": 4,
   "metadata": {},
   "outputs": [
    {
     "data": {
      "text/html": [
       "<div>\n",
       "<style scoped>\n",
       "    .dataframe tbody tr th:only-of-type {\n",
       "        vertical-align: middle;\n",
       "    }\n",
       "\n",
       "    .dataframe tbody tr th {\n",
       "        vertical-align: top;\n",
       "    }\n",
       "\n",
       "    .dataframe thead th {\n",
       "        text-align: right;\n",
       "    }\n",
       "</style>\n",
       "<table border=\"1\" class=\"dataframe\">\n",
       "  <thead>\n",
       "    <tr style=\"text-align: right;\">\n",
       "      <th></th>\n",
       "      <th>text</th>\n",
       "      <th>is_intervention</th>\n",
       "      <th>is_in</th>\n",
       "    </tr>\n",
       "  </thead>\n",
       "  <tbody>\n",
       "    <tr>\n",
       "      <th>0</th>\n",
       "      <td>therapeut effect indoor garden programm older ...</td>\n",
       "      <td>1</td>\n",
       "      <td>0</td>\n",
       "    </tr>\n",
       "    <tr>\n",
       "      <th>1</th>\n",
       "      <td>depress modifi factor fear older faller transi...</td>\n",
       "      <td>1</td>\n",
       "      <td>0</td>\n",
       "    </tr>\n",
       "    <tr>\n",
       "      <th>2</th>\n",
       "      <td>factori structur measur invari pana spanish ol...</td>\n",
       "      <td>1</td>\n",
       "      <td>0</td>\n",
       "    </tr>\n",
       "    <tr>\n",
       "      <th>3</th>\n",
       "      <td>experienti variabl influenc play foot-clasp mo...</td>\n",
       "      <td>1</td>\n",
       "      <td>0</td>\n",
       "    </tr>\n",
       "    <tr>\n",
       "      <th>4</th>\n",
       "      <td>longev increas posit self-percept age research...</td>\n",
       "      <td>1</td>\n",
       "      <td>0</td>\n",
       "    </tr>\n",
       "  </tbody>\n",
       "</table>\n",
       "</div>"
      ],
      "text/plain": [
       "                                                text  is_intervention  is_in\n",
       "0  therapeut effect indoor garden programm older ...                1      0\n",
       "1  depress modifi factor fear older faller transi...                1      0\n",
       "2  factori structur measur invari pana spanish ol...                1      0\n",
       "3  experienti variabl influenc play foot-clasp mo...                1      0\n",
       "4  longev increas posit self-percept age research...                1      0"
      ]
     },
     "execution_count": 4,
     "metadata": {},
     "output_type": "execute_result"
    }
   ],
   "source": [
    "df = pd.read_csv('datasets/cleaned-datasets/socialisolation_cleaned.csv')\n",
    "\n",
    "df_out = df[df['is_in'] == 0]\n",
    "df_out.head()"
   ]
  },
  {
   "cell_type": "markdown",
   "metadata": {},
   "source": [
    "# Collocations"
   ]
  },
  {
   "cell_type": "code",
   "execution_count": 6,
   "metadata": {},
   "outputs": [],
   "source": [
    "documents_list = []\n",
    "for text in df_out['text'].values:\n",
    "    doc = text.split(' ')\n",
    "    documents_list.append(doc)\n",
    "    \n",
    "bi_gram = Phrases(documents_list)\n",
    "\n",
    "bi_gram_counter = Counter()\n",
    "for key in bi_gram.vocab.keys():\n",
    "    bi_gram_counter[key] += bi_gram.vocab[key]\n",
    "\n",
    "# # print out\n",
    "# for key, counts in bi_gram_counter.most_common(1000):\n",
    "#     print('{0: <30} {1}'.format(str(key), counts))"
   ]
  },
  {
   "cell_type": "markdown",
   "metadata": {},
   "source": [
    "Find most common key-words-collocation"
   ]
  },
  {
   "cell_type": "code",
   "execution_count": 7,
   "metadata": {},
   "outputs": [
    {
     "name": "stderr",
     "output_type": "stream",
     "text": [
      "/anaconda3/lib/python3.6/site-packages/gensim/models/phrases.py:486: UserWarning: For a faster implementation, use the gensim.models.phrases.Phraser class\n",
      "  warnings.warn(\"For a faster implementation, use the gensim.models.phrases.Phraser class\")\n"
     ]
    }
   ],
   "source": [
    "from nltk.text import TextCollection\n",
    "\n",
    "documents_collection = TextCollection(df_out['text'].values)\n",
    "\n",
    "vocabulary = []\n",
    "for document in df_out['text'].values:\n",
    "    document = list(bi_gram[document.split(' ')])\n",
    "    vocabulary += document\n",
    "vocabulary = list(set(vocabulary))\n",
    "\n",
    "idf_vocab = {}\n",
    "for word in vocabulary:\n",
    "    idf_vocab[word] = documents_collection.idf(word)\n",
    "\n",
    "s = sorted(idf_vocab.items(), key=lambda x: x[1])"
   ]
  },
  {
   "cell_type": "markdown",
   "metadata": {},
   "source": [
    "# Bi-grams"
   ]
  },
  {
   "cell_type": "code",
   "execution_count": 9,
   "metadata": {},
   "outputs": [],
   "source": [
    "from sklearn.feature_extraction.text import CountVectorizer\n",
    "\n",
    "def get_freqs(df):\n",
    "    vectorizer = CountVectorizer(ngram_range=(1, 1))\n",
    "    X = vectorizer.fit_transform(df.text.values)\n",
    "    freqs = zip(vectorizer.get_feature_names(), (X.toarray() != 0).sum(0))\n",
    "    freqs_sorted = sorted(freqs, key=lambda x: -x[1])\n",
    "    k_list, f_list = [], []\n",
    "    for k, f in freqs_sorted:\n",
    "        k_list.append(k)\n",
    "        f_list.append(f)\n",
    "    \n",
    "    return [k_list, f_list]\n",
    "\n",
    "\n",
    "def get_kwards(kwords_freqs, top_n):\n",
    "    kwords_in, kwords_in_freqs = kwords_freqs['in']\n",
    "    kwords_out, kwords_out_freqs = kwords_freqs['out']\n",
    "    kwords = {}\n",
    "    \n",
    "    # only in-scope keqywords     \n",
    "    count = 0\n",
    "    in_only = [[], []]\n",
    "    for k, f in zip(kwords_in, kwords_in_freqs):\n",
    "        if k not in kwords_out:\n",
    "            in_only[0].append(k)\n",
    "            in_only[1].append(f)\n",
    "            \n",
    "            count += 1\n",
    "            if count == top_n:\n",
    "                break\n",
    "    kwords['in_only'] = in_only\n",
    "    \n",
    "    # only out-scope keqywords \n",
    "    count = 0\n",
    "    out_only = [[], []]\n",
    "    for k, f in zip(kwords_out, kwords_out_freqs):\n",
    "        if k not in kwords_in:\n",
    "            out_only[0].append(k)\n",
    "            out_only[1].append(f)\n",
    "            \n",
    "            count += 1\n",
    "            if count == top_n:\n",
    "                break\n",
    "    kwords['out_only'] = out_only\n",
    "    \n",
    "    return kwords\n",
    "\n",
    "\n",
    "\n",
    "df = pd.read_csv('datasets/cleaned-datasets/socialisolation_cleaned.csv')\n",
    "\n",
    "kwords_freqs = {}\n",
    "kwords_freqs['in'] = get_freqs(df[df['is_in'] == 1])\n",
    "kwords_freqs['out'] = get_freqs(df[df['is_in'] == 0])\n",
    "\n",
    "top_n = 200\n",
    "kwords = get_kwards(kwords_freqs, top_n)\n",
    "\n",
    "data_output = list(zip(kwords['in_only'][0], kwords['in_only'][1], kwords['out_only'][0], kwords['out_only'][1]))\n",
    "df_kwards = pd.DataFrame(data_output, columns=['kward_in', 'freqs_in', 'kward_out', 'freqs_out'])"
   ]
  },
  {
   "cell_type": "markdown",
   "metadata": {},
   "source": [
    "## LDA"
   ]
  },
  {
   "cell_type": "code",
   "execution_count": 103,
   "metadata": {},
   "outputs": [],
   "source": [
    "from gensim.models import LdaModel\n",
    "from gensim import corpora, models\n",
    "from sklearn.feature_extraction.text import CountVectorizer\n",
    "\n",
    "df = pd.read_csv('datasets/cleaned-datasets/socialisolation_cleaned.csv')\n",
    "\n",
    "texts = [d.split() for d in df[df['is_in'] == 0]['text'].values]\n",
    "dictionary = corpora.Dictionary(texts)\n",
    "corpus = [dictionary.doc2bow(text) for text in texts]"
   ]
  },
  {
   "cell_type": "code",
   "execution_count": 104,
   "metadata": {},
   "outputs": [
    {
     "name": "stderr",
     "output_type": "stream",
     "text": [
      "/anaconda3/lib/python3.6/site-packages/gensim/models/ldamodel.py:802: RuntimeWarning: divide by zero encountered in log\n",
      "  diff = np.log(self.expElogbeta)\n"
     ]
    }
   ],
   "source": [
    "ldamodel = LdaModel(corpus, num_topics=100, id2word = dictionary, passes=20)"
   ]
  },
  {
   "cell_type": "code",
   "execution_count": 109,
   "metadata": {},
   "outputs": [
    {
     "name": "stdout",
     "output_type": "stream",
     "text": [
      "0.044*\"social\" + 0.029*\"isolation\" + 0.021*\"patient\" + 0.021*\"admission\" + 0.018*\"opioid\"\n",
      "0.023*\"loneliness\" + 0.015*\"older\" + 0.014*\"group\" + 0.013*\"internet\" + 0.010*\"interest\"\n",
      "0.036*\"model\" + 0.036*\"schizophrenia\" + 0.032*\"symptom\" + 0.027*\"negative\" + 0.018*\"behavioural\"\n",
      "0.031*\"health\" + 0.026*\"people\" + 0.016*\"depression\" + 0.015*\"care\" + 0.015*\"older\"\n",
      "0.026*\"gene\" + 0.017*\"environment\" + 0.013*\"regulate\" + 0.013*\"cancer\" + 0.013*\"life\"\n"
     ]
    }
   ],
   "source": [
    "for i in ldamodel.print_topics(num_topics=5, num_words=5):\n",
    "    print(i[1])"
   ]
  },
  {
   "cell_type": "code",
   "execution_count": null,
   "metadata": {},
   "outputs": [],
   "source": []
  }
 ],
 "metadata": {
  "kernelspec": {
   "display_name": "Python 3",
   "language": "python",
   "name": "python3"
  },
  "language_info": {
   "codemirror_mode": {
    "name": "ipython",
    "version": 3
   },
   "file_extension": ".py",
   "mimetype": "text/x-python",
   "name": "python",
   "nbconvert_exporter": "python",
   "pygments_lexer": "ipython3",
   "version": "3.6.4"
  }
 },
 "nbformat": 4,
 "nbformat_minor": 2
}
