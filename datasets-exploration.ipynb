{
 "cells": [
  {
   "cell_type": "markdown",
   "metadata": {},
   "source": [
    "# Datasets Exploration"
   ]
  },
  {
   "cell_type": "code",
   "execution_count": 4,
   "metadata": {},
   "outputs": [],
   "source": [
    "%matplotlib inline\n",
    "import numpy as np\n",
    "import pandas as pd\n",
    "import matplotlib as mpl\n",
    "import matplotlib.pyplot as plt\n",
    "import seaborn as sns\n",
    "sns.set(style=\"whitegrid\", color_codes=True)"
   ]
  },
  {
   "cell_type": "markdown",
   "metadata": {},
   "source": [
    "# CrowdFlower datasets"
   ]
  },
  {
   "cell_type": "markdown",
   "metadata": {},
   "source": [
    "## 1. First GOP debate sentiment analysis (twitter data)\n",
    "We looked through tens of thousands of tweets about the early August GOP debate in Ohio and asked contributors to do both sentiment analysis and data categorization. Contributors were asked if the tweet was relevant, which candidate was mentioned, what subject was mentioned, and then what the sentiment was for a given tweet. We’ve removed the non-relevant messages from the uploaded dataset. <b>#of items = 14000</b>\n",
    "\n"
   ]
  },
  {
   "cell_type": "code",
   "execution_count": 43,
   "metadata": {},
   "outputs": [
    {
     "data": {
      "text/html": [
       "<div>\n",
       "<style scoped>\n",
       "    .dataframe tbody tr th:only-of-type {\n",
       "        vertical-align: middle;\n",
       "    }\n",
       "\n",
       "    .dataframe tbody tr th {\n",
       "        vertical-align: top;\n",
       "    }\n",
       "\n",
       "    .dataframe thead th {\n",
       "        text-align: right;\n",
       "    }\n",
       "</style>\n",
       "<table border=\"1\" class=\"dataframe\">\n",
       "  <thead>\n",
       "    <tr style=\"text-align: right;\">\n",
       "      <th></th>\n",
       "      <th>candidate</th>\n",
       "      <th>candidate:confidence</th>\n",
       "      <th>relevant_yn</th>\n",
       "      <th>relevant_yn:confidence</th>\n",
       "      <th>sentiment</th>\n",
       "      <th>sentiment:confidence</th>\n",
       "      <th>subject_matter</th>\n",
       "      <th>subject_matter:confidence</th>\n",
       "      <th>candidate_gold</th>\n",
       "      <th>name</th>\n",
       "      <th>relevant_yn_gold</th>\n",
       "      <th>retweet_count</th>\n",
       "      <th>sentiment_gold</th>\n",
       "      <th>subject_matter_gold</th>\n",
       "      <th>text</th>\n",
       "      <th>tweet_coord</th>\n",
       "      <th>tweet_created</th>\n",
       "      <th>tweet_id</th>\n",
       "      <th>tweet_location</th>\n",
       "      <th>user_timezone</th>\n",
       "    </tr>\n",
       "  </thead>\n",
       "  <tbody>\n",
       "    <tr>\n",
       "      <th>0</th>\n",
       "      <td>No candidate mentioned</td>\n",
       "      <td>1.0</td>\n",
       "      <td>yes</td>\n",
       "      <td>1.0</td>\n",
       "      <td>Neutral</td>\n",
       "      <td>0.6578</td>\n",
       "      <td>None of the above</td>\n",
       "      <td>1.0000</td>\n",
       "      <td>NaN</td>\n",
       "      <td>I_Am_Kenzi</td>\n",
       "      <td>NaN</td>\n",
       "      <td>5</td>\n",
       "      <td>NaN</td>\n",
       "      <td>NaN</td>\n",
       "      <td>RT @NancyLeeGrahn: How did everyone feel about...</td>\n",
       "      <td>NaN</td>\n",
       "      <td>8/7/15 9:54</td>\n",
       "      <td>6.296970e+17</td>\n",
       "      <td>NaN</td>\n",
       "      <td>Quito</td>\n",
       "    </tr>\n",
       "    <tr>\n",
       "      <th>1</th>\n",
       "      <td>Scott Walker</td>\n",
       "      <td>1.0</td>\n",
       "      <td>yes</td>\n",
       "      <td>1.0</td>\n",
       "      <td>Positive</td>\n",
       "      <td>0.6333</td>\n",
       "      <td>None of the above</td>\n",
       "      <td>1.0000</td>\n",
       "      <td>NaN</td>\n",
       "      <td>PeacefulQuest</td>\n",
       "      <td>NaN</td>\n",
       "      <td>26</td>\n",
       "      <td>NaN</td>\n",
       "      <td>NaN</td>\n",
       "      <td>RT @ScottWalker: Didn't catch the full #GOPdeb...</td>\n",
       "      <td>NaN</td>\n",
       "      <td>8/7/15 9:54</td>\n",
       "      <td>6.296970e+17</td>\n",
       "      <td>NaN</td>\n",
       "      <td>NaN</td>\n",
       "    </tr>\n",
       "    <tr>\n",
       "      <th>2</th>\n",
       "      <td>No candidate mentioned</td>\n",
       "      <td>1.0</td>\n",
       "      <td>yes</td>\n",
       "      <td>1.0</td>\n",
       "      <td>Neutral</td>\n",
       "      <td>0.6629</td>\n",
       "      <td>None of the above</td>\n",
       "      <td>0.6629</td>\n",
       "      <td>NaN</td>\n",
       "      <td>PussssyCroook</td>\n",
       "      <td>NaN</td>\n",
       "      <td>27</td>\n",
       "      <td>NaN</td>\n",
       "      <td>NaN</td>\n",
       "      <td>RT @TJMShow: No mention of Tamir Rice and the ...</td>\n",
       "      <td>NaN</td>\n",
       "      <td>8/7/15 9:54</td>\n",
       "      <td>6.296970e+17</td>\n",
       "      <td>NaN</td>\n",
       "      <td>NaN</td>\n",
       "    </tr>\n",
       "    <tr>\n",
       "      <th>3</th>\n",
       "      <td>No candidate mentioned</td>\n",
       "      <td>1.0</td>\n",
       "      <td>yes</td>\n",
       "      <td>1.0</td>\n",
       "      <td>Positive</td>\n",
       "      <td>1.0000</td>\n",
       "      <td>None of the above</td>\n",
       "      <td>0.7039</td>\n",
       "      <td>NaN</td>\n",
       "      <td>MattFromTexas31</td>\n",
       "      <td>NaN</td>\n",
       "      <td>138</td>\n",
       "      <td>NaN</td>\n",
       "      <td>NaN</td>\n",
       "      <td>RT @RobGeorge: That Carly Fiorina is trending ...</td>\n",
       "      <td>NaN</td>\n",
       "      <td>8/7/15 9:54</td>\n",
       "      <td>6.296970e+17</td>\n",
       "      <td>Texas</td>\n",
       "      <td>Central Time (US &amp; Canada)</td>\n",
       "    </tr>\n",
       "    <tr>\n",
       "      <th>4</th>\n",
       "      <td>Donald Trump</td>\n",
       "      <td>1.0</td>\n",
       "      <td>yes</td>\n",
       "      <td>1.0</td>\n",
       "      <td>Positive</td>\n",
       "      <td>0.7045</td>\n",
       "      <td>None of the above</td>\n",
       "      <td>1.0000</td>\n",
       "      <td>NaN</td>\n",
       "      <td>sharonDay5</td>\n",
       "      <td>NaN</td>\n",
       "      <td>156</td>\n",
       "      <td>NaN</td>\n",
       "      <td>NaN</td>\n",
       "      <td>RT @DanScavino: #GOPDebate w/ @realDonaldTrump...</td>\n",
       "      <td>NaN</td>\n",
       "      <td>8/7/15 9:54</td>\n",
       "      <td>6.296970e+17</td>\n",
       "      <td>NaN</td>\n",
       "      <td>Arizona</td>\n",
       "    </tr>\n",
       "  </tbody>\n",
       "</table>\n",
       "</div>"
      ],
      "text/plain": [
       "                candidate  candidate:confidence relevant_yn  \\\n",
       "0  No candidate mentioned                   1.0         yes   \n",
       "1            Scott Walker                   1.0         yes   \n",
       "2  No candidate mentioned                   1.0         yes   \n",
       "3  No candidate mentioned                   1.0         yes   \n",
       "4            Donald Trump                   1.0         yes   \n",
       "\n",
       "   relevant_yn:confidence sentiment  sentiment:confidence     subject_matter  \\\n",
       "0                     1.0   Neutral                0.6578  None of the above   \n",
       "1                     1.0  Positive                0.6333  None of the above   \n",
       "2                     1.0   Neutral                0.6629  None of the above   \n",
       "3                     1.0  Positive                1.0000  None of the above   \n",
       "4                     1.0  Positive                0.7045  None of the above   \n",
       "\n",
       "   subject_matter:confidence candidate_gold             name relevant_yn_gold  \\\n",
       "0                     1.0000            NaN       I_Am_Kenzi              NaN   \n",
       "1                     1.0000            NaN    PeacefulQuest              NaN   \n",
       "2                     0.6629            NaN    PussssyCroook              NaN   \n",
       "3                     0.7039            NaN  MattFromTexas31              NaN   \n",
       "4                     1.0000            NaN       sharonDay5              NaN   \n",
       "\n",
       "   retweet_count sentiment_gold subject_matter_gold  \\\n",
       "0              5            NaN                 NaN   \n",
       "1             26            NaN                 NaN   \n",
       "2             27            NaN                 NaN   \n",
       "3            138            NaN                 NaN   \n",
       "4            156            NaN                 NaN   \n",
       "\n",
       "                                                text tweet_coord  \\\n",
       "0  RT @NancyLeeGrahn: How did everyone feel about...         NaN   \n",
       "1  RT @ScottWalker: Didn't catch the full #GOPdeb...         NaN   \n",
       "2  RT @TJMShow: No mention of Tamir Rice and the ...         NaN   \n",
       "3  RT @RobGeorge: That Carly Fiorina is trending ...         NaN   \n",
       "4  RT @DanScavino: #GOPDebate w/ @realDonaldTrump...         NaN   \n",
       "\n",
       "  tweet_created      tweet_id tweet_location               user_timezone  \n",
       "0   8/7/15 9:54  6.296970e+17            NaN                       Quito  \n",
       "1   8/7/15 9:54  6.296970e+17            NaN                         NaN  \n",
       "2   8/7/15 9:54  6.296970e+17            NaN                         NaN  \n",
       "3   8/7/15 9:54  6.296970e+17          Texas  Central Time (US & Canada)  \n",
       "4   8/7/15 9:54  6.296970e+17            NaN                     Arizona  "
      ]
     },
     "execution_count": 43,
     "metadata": {},
     "output_type": "execute_result"
    }
   ],
   "source": [
    "df = pd.read_csv('datasets/raw-datasets/crowd-flower/GOP_REL_ONLY.csv', encoding = \"ISO-8859-1\")\n",
    "df.head()"
   ]
  },
  {
   "cell_type": "markdown",
   "metadata": {},
   "source": [
    "### 1. sentiment variable"
   ]
  },
  {
   "cell_type": "code",
   "execution_count": 51,
   "metadata": {},
   "outputs": [
    {
     "data": {
      "image/png": "[encoded data removed]",
      "text/plain": [
       "<matplotlib.figure.Figure at 0x1a2863ec50>"
      ]
     },
     "metadata": {},
     "output_type": "display_data"
    }
   ],
   "source": [
    "# Sentiment counts\n",
    "g=sns.countplot(x=\"sentiment\", data=df, palette=\"Greens_d\")\n",
    "g.set_title('subject_matter variable');"
   ]
  },
  {
   "cell_type": "markdown",
   "metadata": {},
   "source": [
    "### 2. subject_matter variable"
   ]
  },
  {
   "cell_type": "code",
   "execution_count": 52,
   "metadata": {},
   "outputs": [
    {
     "data": {
      "image/png": "[encoded data removed]",
      "text/plain": [
       "<matplotlib.figure.Figure at 0x1a28576320>"
      ]
     },
     "metadata": {},
     "output_type": "display_data"
    }
   ],
   "source": [
    "g=sns.countplot(x=\"subject_matter\", data=df, palette=\"Blues_d\")\n",
    "g.set_xticklabels(g.get_xticklabels(),rotation=90)\n",
    "g.set_title('subject_matter variable');"
   ]
  },
  {
   "cell_type": "markdown",
   "metadata": {},
   "source": [
    "## Drug relation database"
   ]
  },
  {
   "cell_type": "markdown",
   "metadata": {},
   "source": [
    "Contributors read color-coded sentences and determined what the relationship of a drug was to certain symptoms or diseases. \n",
    "There are two types of relationships. <b>#of items = 2020</b>"
   ]
  },
  {
   "cell_type": "code",
   "execution_count": 53,
   "metadata": {},
   "outputs": [
    {
     "data": {
      "text/html": [
       "<div>\n",
       "<style scoped>\n",
       "    .dataframe tbody tr th:only-of-type {\n",
       "        vertical-align: middle;\n",
       "    }\n",
       "\n",
       "    .dataframe tbody tr th {\n",
       "        vertical-align: top;\n",
       "    }\n",
       "\n",
       "    .dataframe thead th {\n",
       "        text-align: right;\n",
       "    }\n",
       "</style>\n",
       "<table border=\"1\" class=\"dataframe\">\n",
       "  <thead>\n",
       "    <tr style=\"text-align: right;\">\n",
       "      <th></th>\n",
       "      <th>_unit_id</th>\n",
       "      <th>_golden</th>\n",
       "      <th>_unit_state</th>\n",
       "      <th>_trusted_judgments</th>\n",
       "      <th>_last_judgment_at</th>\n",
       "      <th>human_relation</th>\n",
       "      <th>human_relation:confidence</th>\n",
       "      <th>human_relation_type</th>\n",
       "      <th>human_relation_type:confidence</th>\n",
       "      <th>documentid</th>\n",
       "      <th>gold</th>\n",
       "      <th>human_relation_gold</th>\n",
       "      <th>human_relation_gold_reason</th>\n",
       "      <th>human_relation_type_gold</th>\n",
       "      <th>human_relation_type_gold_reason</th>\n",
       "      <th>text</th>\n",
       "    </tr>\n",
       "  </thead>\n",
       "  <tbody>\n",
       "    <tr>\n",
       "      <th>0</th>\n",
       "      <td>711477194</td>\n",
       "      <td>True</td>\n",
       "      <td>golden</td>\n",
       "      <td>94</td>\n",
       "      <td>NaN</td>\n",
       "      <td>Personal experience</td>\n",
       "      <td>1.0000</td>\n",
       "      <td>Is prescibed for</td>\n",
       "      <td>0.8074</td>\n",
       "      <td>t1</td>\n",
       "      <td>True</td>\n",
       "      <td>1.0</td>\n",
       "      <td>Author tells about his/her personal experience.</td>\n",
       "      <td>2.0</td>\n",
       "      <td>Person tells that he/she takes drug, BUT there...</td>\n",
       "      <td>I am also taking cough medicine and some &lt;font...</td>\n",
       "    </tr>\n",
       "    <tr>\n",
       "      <th>1</th>\n",
       "      <td>711477195</td>\n",
       "      <td>True</td>\n",
       "      <td>golden</td>\n",
       "      <td>99</td>\n",
       "      <td>NaN</td>\n",
       "      <td>Impersonal experience</td>\n",
       "      <td>0.9609</td>\n",
       "      <td>Caused side effect</td>\n",
       "      <td>1.0000</td>\n",
       "      <td>t1</td>\n",
       "      <td>True</td>\n",
       "      <td>3.0</td>\n",
       "      <td>NaN</td>\n",
       "      <td>1.0</td>\n",
       "      <td>acetaminophen can cause sweating</td>\n",
       "      <td>Medicines taken to lower fever, such as aspiri...</td>\n",
       "    </tr>\n",
       "    <tr>\n",
       "      <th>2</th>\n",
       "      <td>711477196</td>\n",
       "      <td>True</td>\n",
       "      <td>golden</td>\n",
       "      <td>92</td>\n",
       "      <td>NaN</td>\n",
       "      <td>Personal experience</td>\n",
       "      <td>1.0000</td>\n",
       "      <td>Is prescibed for</td>\n",
       "      <td>0.6926</td>\n",
       "      <td>t3</td>\n",
       "      <td>True</td>\n",
       "      <td>1.0</td>\n",
       "      <td>Author tells about his/her personal experience.</td>\n",
       "      <td>2.0</td>\n",
       "      <td>Person tells that he/she takes drug, BUT there...</td>\n",
       "      <td>&lt;font color=\"blue\"&gt;Acetaminophen&lt;/font&gt; has a ...</td>\n",
       "    </tr>\n",
       "    <tr>\n",
       "      <th>3</th>\n",
       "      <td>711477197</td>\n",
       "      <td>True</td>\n",
       "      <td>golden</td>\n",
       "      <td>90</td>\n",
       "      <td>NaN</td>\n",
       "      <td>Personal experience</td>\n",
       "      <td>1.0000</td>\n",
       "      <td>Was effective against</td>\n",
       "      <td>0.9651</td>\n",
       "      <td>t4</td>\n",
       "      <td>True</td>\n",
       "      <td>1.0</td>\n",
       "      <td>The author explicitly relates to an event s/he...</td>\n",
       "      <td>3.0</td>\n",
       "      <td>The autor explicitly states the drug was effec...</td>\n",
       "      <td>I went back to the &lt;font color=\"blue\"&gt;Nexium&lt;/...</td>\n",
       "    </tr>\n",
       "    <tr>\n",
       "      <th>4</th>\n",
       "      <td>711477198</td>\n",
       "      <td>True</td>\n",
       "      <td>golden</td>\n",
       "      <td>89</td>\n",
       "      <td>NaN</td>\n",
       "      <td>Personal experience</td>\n",
       "      <td>1.0000</td>\n",
       "      <td>Is prescibed for</td>\n",
       "      <td>0.5001</td>\n",
       "      <td>t5</td>\n",
       "      <td>True</td>\n",
       "      <td>1.0</td>\n",
       "      <td>The author relates to an event s/he personally...</td>\n",
       "      <td>2.0</td>\n",
       "      <td>There is an overt statement of drug administra...</td>\n",
       "      <td>I used to get alot of &lt;font color=\"red\"&gt;headac...</td>\n",
       "    </tr>\n",
       "  </tbody>\n",
       "</table>\n",
       "</div>"
      ],
      "text/plain": [
       "    _unit_id  _golden _unit_state  _trusted_judgments _last_judgment_at  \\\n",
       "0  711477194     True      golden                  94               NaN   \n",
       "1  711477195     True      golden                  99               NaN   \n",
       "2  711477196     True      golden                  92               NaN   \n",
       "3  711477197     True      golden                  90               NaN   \n",
       "4  711477198     True      golden                  89               NaN   \n",
       "\n",
       "          human_relation  human_relation:confidence    human_relation_type  \\\n",
       "0    Personal experience                     1.0000       Is prescibed for   \n",
       "1  Impersonal experience                     0.9609     Caused side effect   \n",
       "2    Personal experience                     1.0000       Is prescibed for   \n",
       "3    Personal experience                     1.0000  Was effective against   \n",
       "4    Personal experience                     1.0000       Is prescibed for   \n",
       "\n",
       "   human_relation_type:confidence documentid  gold  human_relation_gold  \\\n",
       "0                          0.8074         t1  True                  1.0   \n",
       "1                          1.0000         t1  True                  3.0   \n",
       "2                          0.6926         t3  True                  1.0   \n",
       "3                          0.9651         t4  True                  1.0   \n",
       "4                          0.5001         t5  True                  1.0   \n",
       "\n",
       "                          human_relation_gold_reason  \\\n",
       "0    Author tells about his/her personal experience.   \n",
       "1                                                NaN   \n",
       "2    Author tells about his/her personal experience.   \n",
       "3  The author explicitly relates to an event s/he...   \n",
       "4  The author relates to an event s/he personally...   \n",
       "\n",
       "   human_relation_type_gold  \\\n",
       "0                       2.0   \n",
       "1                       1.0   \n",
       "2                       2.0   \n",
       "3                       3.0   \n",
       "4                       2.0   \n",
       "\n",
       "                     human_relation_type_gold_reason  \\\n",
       "0  Person tells that he/she takes drug, BUT there...   \n",
       "1                   acetaminophen can cause sweating   \n",
       "2  Person tells that he/she takes drug, BUT there...   \n",
       "3  The autor explicitly states the drug was effec...   \n",
       "4  There is an overt statement of drug administra...   \n",
       "\n",
       "                                                text  \n",
       "0  I am also taking cough medicine and some <font...  \n",
       "1  Medicines taken to lower fever, such as aspiri...  \n",
       "2  <font color=\"blue\">Acetaminophen</font> has a ...  \n",
       "3  I went back to the <font color=\"blue\">Nexium</...  \n",
       "4  I used to get alot of <font color=\"red\">headac...  "
      ]
     },
     "execution_count": 53,
     "metadata": {},
     "output_type": "execute_result"
    }
   ],
   "source": [
    "df = pd.read_csv('datasets/raw-datasets/crowd-flower/drug-relation-dfe.csv', encoding = \"ISO-8859-1\")\n",
    "df.head()"
   ]
  },
  {
   "cell_type": "markdown",
   "metadata": {},
   "source": [
    "### 1. human_relation variable"
   ]
  },
  {
   "cell_type": "code",
   "execution_count": 57,
   "metadata": {},
   "outputs": [
    {
     "data": {
      "image/png": "[encoded data removed]",
      "text/plain": [
       "<matplotlib.figure.Figure at 0x1a29212048>"
      ]
     },
     "metadata": {},
     "output_type": "display_data"
    }
   ],
   "source": [
    "g = sns.countplot(x=\"human_relation\", data=df, palette=\"Blues_d\")\n",
    "g.set_xticklabels(g.get_xticklabels(),rotation=90)\n",
    "g.set_title('human_relation variable');"
   ]
  },
  {
   "cell_type": "markdown",
   "metadata": {},
   "source": [
    "### 1. human_relation_type variable"
   ]
  },
  {
   "cell_type": "code",
   "execution_count": 58,
   "metadata": {},
   "outputs": [
    {
     "data": {
      "image/png": "[encoded data removed]",
      "text/plain": [
       "<matplotlib.figure.Figure at 0x1a29228f28>"
      ]
     },
     "metadata": {},
     "output_type": "display_data"
    }
   ],
   "source": [
    "g = sns.countplot(x=\"human_relation_type\", data=df, palette=\"Greens_d\")\n",
    "g.set_xticklabels(g.get_xticklabels(),rotation=90)\n",
    "g.set_title('human_relation_type variable');"
   ]
  },
  {
   "cell_type": "code",
   "execution_count": null,
   "metadata": {},
   "outputs": [],
   "source": []
  }
 ],
 "metadata": {
  "kernelspec": {
   "display_name": "Python 3",
   "language": "python",
   "name": "python3"
  },
  "language_info": {
   "codemirror_mode": {
    "name": "ipython",
    "version": 3
   },
   "file_extension": ".py",
   "mimetype": "text/x-python",
   "name": "python",
   "nbconvert_exporter": "python",
   "pygments_lexer": "ipython3",
   "version": "3.6.4"
  }
 },
 "nbformat": 4,
 "nbformat_minor": 2
}
